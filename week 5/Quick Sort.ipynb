{
 "cells": [
  {
    "# Home Work1: Quick Sort\n",
    "\n",
    "> 在這邊就不對 QuickSort 多做解釋了，也可以去這邊看 >>> [我的筆記](https://github.com/aaron1aaron2/my-learning-note/tree/master/week5)\n",
    "\n",
    "\n",
    "# 我一開始的想法\n",
    "\n",
    "就是寫一個fuction 創立三個 list 分別儲存(>、=、<)基準值的值，做個簡單的判斷依序append 到三個 list ，然後在把(<、>)基準值的 list 丟回原本的 function，**直到array剩下一個值**，最後在合併。這方式很直覺很簡單，就類似下面這樣。"
   ]
  },
   "cell_type": "code",
   "execution_count": 1,
   "metadata": {},
   "outputs": [],
   "source": [
    "def quicksort(x):\n",
    "    if len(x) == 1 or len(x) == 0:\n",
    "        return x\n",
    "    else:\n",
    "        pivot = x[0]\n",
    "        i = 0\n",
    "        for j in range(len(x)-1):\n",
    "            if x[j+1] < pivot:\n",
    "                x[j+1],x[i+1] = x[i+1], x[j+1]\n",
    "                i += 1\n",
    "                x[0],x[i] = x[i],x[0]\n",
    "                first_part = quicksort(x[:i])\n",
    "                second_part = quicksort(x[i+1:])\n",
    "                first_part.append(x[i])\n",
    "                return first_part + second_part"
   ]
  },
  {
   "cell_type": "code",
   "execution_count": 5,
   "metadata": {},
   "outputs": [],
   "source": [
    "alist = [4,7,3,0,9,8,5,1,6,2]"
   ]
  },
  {
   "cell_type": "code",
   "execution_count": 6,
   "metadata": {},
   "outputs": [
    {
     "name": "stdout",
     "output_type": "stream",
     "text": [
      "[3, 4, 0, 7, 8, 9, 1, 5, 2, 6]\n"
     ]
    },
    {
     "ename": "TypeError",
     "evalue": "'NoneType' object is not subscriptable",
     "output_type": "error",
     "traceback": [
      "\u001b[1;31m---------------------------------------------------------------------------\u001b[0m",
      "\u001b[1;31mTypeError\u001b[0m                                 Traceback (most recent call last)",
      "\u001b[1;32m<ipython-input-6-7c7bcac0629f>\u001b[0m in \u001b[0;36m<module>\u001b[1;34m\u001b[0m\n\u001b[1;32m----> 1\u001b[1;33m \u001b[0mprint\u001b[0m\u001b[1;33m(\u001b[0m\u001b[0mquicksort\u001b[0m\u001b[1;33m(\u001b[0m\u001b[0malist\u001b[0m\u001b[1;33m)\u001b[0m\u001b[1;33m)\u001b[0m\u001b[1;33m[\u001b[0m\u001b[1;36m4\u001b[0m\u001b[1;33m,\u001b[0m\u001b[1;36m7\u001b[0m\u001b[1;33m,\u001b[0m\u001b[1;36m3\u001b[0m\u001b[1;33m,\u001b[0m\u001b[1;36m0\u001b[0m\u001b[1;33m,\u001b[0m\u001b[1;36m9\u001b[0m\u001b[1;33m,\u001b[0m\u001b[1;36m8\u001b[0m\u001b[1;33m,\u001b[0m\u001b[1;36m5\u001b[0m\u001b[1;33m,\u001b[0m\u001b[1;36m1\u001b[0m\u001b[1;33m,\u001b[0m\u001b[1;36m6\u001b[0m\u001b[1;33m,\u001b[0m\u001b[1;36m2\u001b[0m\u001b[1;33m]\u001b[0m\u001b[1;33m\u001b[0m\u001b[1;33m\u001b[0m\u001b[0m\n\u001b[0m",
      "\u001b[1;31mTypeError\u001b[0m: 'NoneType' object is not subscriptable"
     ]
    }
   ],
   "source": [
    "print(quicksort(alist))[4,7,3,0,9,8,5,1,6,2]"
   ]
  },
  {
   "cell_type": "code",
   "execution_count": null,
   "metadata": {},
   "outputs": [],
   "source": []
  }
 ],
 "metadata": {
  "kernelspec": {
   "display_name": "Python 3",
   "language": "python",
   "name": "python3"
  },
  "language_info": {
   "codemirror_mode": {
    "name": "ipython",
    "version": 3
   },
   "file_extension": ".py",
   "mimetype": "text/x-python",
   "name": "python",
   "nbconvert_exporter": "python",
   "pygments_lexer": "ipython3",
   "version": "3.7.1"
  }
 },
 "nbformat": 4,
 "nbformat_minor": 2
}
