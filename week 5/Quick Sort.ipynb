{
 "cells": [
  {
   "cell_type": "markdown",
   "metadata": {},
   "source": [
    "# Home Work1: Quick Sort\n",
    "\n",
    "\n",
    "\n",
    "# 我一開始的想法\n",
    "\n",
    "就是寫一個fuction 創立三個 list 分別儲存(>、=、<)基準值的值，做個簡單的判斷依序append 到三個 list ，然後在把(<、>)基準值的 list 丟回原本的 function，**直到array剩下一個值**，最後在合併。這方式很直覺很簡單，就類似下面這樣。"
   ]
  },
  {
   "cell_type": "code",
   "execution_count": 15,
   "metadata": {},
   "outputs": [],
   "source": [
    "def sort(array):\n",
    "    # 三個 list \n",
    "    less = []\n",
    "    equal = []\n",
    "    greater = []\n",
    "    \n",
    "    # 當array 只剩一個值的時候(重要: 因為是回歸的方式，所以停止條件很重要。)\n",
    "    if len(array) > 1:\n",
    "        pivot = array[0] # 這邊是以每個array 的頭當基準點。\n",
    "        for x in array:\n",
    "            # 依條件分別將 element 加入不同的list\n",
    "            if x < pivot:\n",
    "                less.append(x) \n",
    "            elif x == pivot:\n",
    "                equal.append(x)\n",
    "            elif x > pivot:\n",
    "                greater.append(x)\n",
    "        # 在最後，less和 greater 在丟回原本的 function，直到 len(array)=1\n",
    "        return sort(less)+equal+sort(greater) \n",
    "    # 記得排序完的 array要返回\n",
    "    else: \n",
    "        return array"
   ]
  },
  {
   "cell_type": "code",
   "execution_count": 16,
   "metadata": {},
   "outputs": [],
   "source": [
    "arr = [10, 7, 8, 9, 1, 5] "
   ]
  },
  {
   "cell_type": "code",
   "execution_count": 17,
   "metadata": {},
   "outputs": [
    {
     "data": {
      "text/plain": [
       "[1, 5, 7, 8, 9, 10]"
      ]
     },
     "execution_count": 17,
     "metadata": {},
     "output_type": "execute_result"
    }
   ],
   "source": [
    "sort(arr)"
   ]
  },
  {
   "cell_type": "markdown",
   "metadata": {},
   "source": [
    "# 這方法有幾個問題\n",
    "\n",
    "1. append 比較耗時，這方法用了三個。\n",
    "2. 用額外的 list 去儲存，使用的空間較多。\n",
    "3. 全部以頭為基準的方式，有可能會有不平衡的問題，也就是說當你運氣不好，基準點剛好是array裡的 max 或 min會造成時間的浪費，它代表你跑的這次迴圈，所排列的element 只有基準值(或是不動)。\n",
    "\n",
    "\n",
    "# 於是參考老師的解法後，我用同個概念做看看\n",
    "\n",
    "> 這裡寫成Class 還有 sortArray()  只是為了去跑 leetcode。\n",
    "\n",
    "它主要是由兩個部分構成，quickSort主要是控制整個流程，partition 就是以QuickSort排序 ，紀錄每個 array 頭尾 index 的方式取代 list 存取省下多空間。時間方面，因為使用交換的方式，提高了整體效率。\n",
    "\n"
   ]
  },
  {
   "cell_type": "code",
   "execution_count": 24,
   "metadata": {},
   "outputs": [],
   "source": [
    "class Solution:\n",
    "    def partition(self,array,low,high): \n",
    "        '''基準點比較,排序'''\n",
    "        border = (low-1) # 起始index (最左邊)，就是一個邊界的概念，在邊界的左邊是以排序過的值(比基準小的值)，右邊是帶排序的值。\n",
    "        pivot = array[high] # 以最後一個為基準\n",
    "\n",
    "        for cur in range(low , high): \n",
    "\n",
    "            # 當現在的位置比基準點小時，邊界值(i)與當前值(cur)做交換做交換，把較小的值往左移的同時移動邊界(i++)，較大的直不動。\n",
    "            if   array[cur] < pivot: \n",
    "                border += 1 # i++\n",
    "                array[border],array[cur] = array[cur],array[border] # 交換\n",
    "\n",
    "        array[border+1],array[high] = array[high],array[border+1] \n",
    "        return ( border+1 ) \n",
    "\n",
    "    def quickSort(self,array,low,high): \n",
    "        '''當 low == high 代表 array只剩一個element，就可以停了。'''\n",
    "        if low < high: \n",
    "            pi = self.partition(arr,low,high) # 返回排序完後的基準點位置\n",
    "\n",
    "            self.quickSort(arr, low, pi-1) # 把小於基準的index 再丟回 quickSort 跑。\n",
    "            self.quickSort(arr, pi+1, high) # 把大於基準的index 再丟回 quickSort 跑。\n",
    "            \n",
    "    def sortArray(self, nums):\n",
    "        n = len(nums) \n",
    "        self.quickSort(nums,0,n-1) # 頭到尾的 index\n",
    "        \n",
    "        return nums"
   ]
  },
  {
   "cell_type": "code",
   "execution_count": 25,
   "metadata": {},
   "outputs": [],
   "source": [
    "arr = [10, 7, 8, 9, 1, 5] "
   ]
  },
  {
   "cell_type": "code",
   "execution_count": 26,
   "metadata": {},
   "outputs": [
    {
     "data": {
      "text/plain": [
       "[1, 5, 7, 8, 9, 10]"
      ]
     },
     "execution_count": 26,
     "metadata": {},
     "output_type": "execute_result"
    }
   ],
   "source": [
    "obj = Solution()\n",
    "obj.sortArray(arr)"
   ]
  }
 ],
 "metadata": {
  "kernelspec": {
   "display_name": "Python 3",
   "language": "python",
   "name": "python3"
  },
  "language_info": {
   "codemirror_mode": {
    "name": "ipython",
    "version": 3
   },
   "file_extension": ".py",
   "mimetype": "text/x-python",
   "name": "python",
   "nbconvert_exporter": "python",
   "pygments_lexer": "ipython3",
   "version": "3.7.3"
  }
 },
 "nbformat": 4,
 "nbformat_minor": 2
}
