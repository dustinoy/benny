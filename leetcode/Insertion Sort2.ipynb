{
 "cells": [
  {
   "cell_type": "code",
   "execution_count": 3,
   "metadata": {},
   "outputs": [],
   "source": [
    "def quicksort(x):\n",
    "      if len(x) < 2: #數列中的數字如果小於2就會停止\n",
    "          return x\n",
    "      else:\n",
    "          pivot = x[0] #第一項設定為pivot，然後一一跟後面數字比較，如果比pivot小放Less[]裡，大的放more[]裡\n",
    "          less = [i for i in x[1:] if i <= pivot]\n",
    "          greater = [i for i in x[1:] if i > pivot]\n",
    "          return quicksort(less) + [pivot] + quicksort(greater) #把數列重整，如果less[] 或 more[] 還有大於兩個數字，就繼續分類，直到list裡面只剩一個數"
   ]
  },
  {
   "cell_type": "code",
   "execution_count": 6,
   "metadata": {},
   "outputs": [],
   "source": [
    "arr= [3,7,4,9,2,0,5,8,1,6]"
   ]
  },
  {
   "cell_type": "code",
   "execution_count": 7,
   "metadata": {},
   "outputs": [
    {
     "data": {
      "text/plain": [
       "[0, 1, 2, 3, 4, 5, 6, 7, 8, 9]"
      ]
     },
     "execution_count": 7,
     "metadata": {},
     "output_type": "execute_result"
    }
   ],
   "source": [
    "quicksort(arr)"
   ]
  },
  {
   "cell_type": "code",
   "execution_count": null,
   "metadata": {},
   "outputs": [],
   "source": []
  }
 ],
 "metadata": {
  "kernelspec": {
   "display_name": "Python 3",
   "language": "python",
   "name": "python3"
  },
  "language_info": {
   "codemirror_mode": {
    "name": "ipython",
    "version": 3
   },
   "file_extension": ".py",
   "mimetype": "text/x-python",
   "name": "python",
   "nbconvert_exporter": "python",
   "pygments_lexer": "ipython3",
   "version": "3.7.1"
  }
 },
 "nbformat": 4,
 "nbformat_minor": 2
}
